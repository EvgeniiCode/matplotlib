{
 "cells": [
  {
   "cell_type": "markdown",
   "metadata": {},
   "source": [
    "### Рассмотрим построение графика plot, где можно настроить не только размеры линии, но и размеры его маркеров, который имеет множество параметров настройки(см документацию)"
   ]
  },
  {
   "cell_type": "code",
   "execution_count": 3,
   "metadata": {},
   "outputs": [],
   "source": [
    "import matplotlib as mb\n",
    "import matplotlib.pyplot as plt\n",
    "import pandas as pd\n",
    "import numpy as np"
   ]
  },
  {
   "cell_type": "code",
   "execution_count": 5,
   "metadata": {},
   "outputs": [],
   "source": [
    "%matplotlib inline"
   ]
  },
  {
   "cell_type": "code",
   "execution_count": 33,
   "metadata": {},
   "outputs": [
    {
     "data": {
      "image/png": "[encoded data removed]",
      "text/plain": [
       "<Figure size 432x288 with 1 Axes>"
      ]
     },
     "metadata": {
      "needs_background": "light"
     },
     "output_type": "display_data"
    }
   ],
   "source": [
    "fig, ax = plt.subplots()"
   ]
  },
  {
   "cell_type": "code",
   "execution_count": 34,
   "metadata": {},
   "outputs": [
    {
     "data": {
      "text/plain": [
       "[[<matplotlib.axis.XTick at 0x20dc525aee0>,\n",
       "  <matplotlib.axis.XTick at 0x20dc525aeb0>,\n",
       "  <matplotlib.axis.XTick at 0x20dc524f2b0>,\n",
       "  <matplotlib.axis.XTick at 0x20dc527e340>,\n",
       "  <matplotlib.axis.XTick at 0x20dc527e850>,\n",
       "  <matplotlib.axis.XTick at 0x20dc527ed60>,\n",
       "  <matplotlib.axis.XTick at 0x20dc5252ac0>,\n",
       "  <matplotlib.axis.XTick at 0x20dc529e6d0>,\n",
       "  <matplotlib.axis.XTick at 0x20dc529ec10>,\n",
       "  <matplotlib.axis.XTick at 0x20dc52a40a0>],\n",
       " [<matplotlib.axis.YTick at 0x20dc525d730>,\n",
       "  <matplotlib.axis.YTick at 0x20dc525d3a0>,\n",
       "  <matplotlib.axis.YTick at 0x20dc52882e0>,\n",
       "  <matplotlib.axis.YTick at 0x20dc52887c0>,\n",
       "  <matplotlib.axis.YTick at 0x20dc5288cd0>,\n",
       "  <matplotlib.axis.YTick at 0x20dc528e220>,\n",
       "  <matplotlib.axis.YTick at 0x20dc525a1f0>,\n",
       "  <matplotlib.axis.YTick at 0x20dc52a4b20>,\n",
       "  <matplotlib.axis.YTick at 0x20dc52a9070>,\n",
       "  <matplotlib.axis.YTick at 0x20dc52a4280>]]"
      ]
     },
     "execution_count": 34,
     "metadata": {},
     "output_type": "execute_result"
    }
   ],
   "source": [
    "ax.plot([1, 2, 3, 4], [2, 4, 6, 8], color='blue', linewidth=4, linestyle=':')\n",
    "ax.set(xticks=range(10), yticks=range(10))"
   ]
  },
  {
   "cell_type": "code",
   "execution_count": 35,
   "metadata": {},
   "outputs": [
    {
     "data": {
      "image/png": "[encoded data removed]",
      "text/plain": [
       "<Figure size 432x288 with 1 Axes>"
      ]
     },
     "execution_count": 35,
     "metadata": {},
     "output_type": "execute_result"
    }
   ],
   "source": [
    "fig"
   ]
  },
  {
   "cell_type": "code",
   "execution_count": 36,
   "metadata": {},
   "outputs": [
    {
     "data": {
      "text/plain": [
       "[<matplotlib.lines.Line2D at 0x20dc52b8d90>]"
      ]
     },
     "execution_count": 36,
     "metadata": {},
     "output_type": "execute_result"
    }
   ],
   "source": [
    "ax.plot([1, 2, 3, 4, 5], [4, 4, 4, 4, 4], color='red', marker='.', linewidth=2, markersize=10)"
   ]
  },
  {
   "cell_type": "code",
   "execution_count": 37,
   "metadata": {},
   "outputs": [
    {
     "data": {
      "image/png": "[encoded data removed]",
      "text/plain": [
       "<Figure size 432x288 with 1 Axes>"
      ]
     },
     "execution_count": 37,
     "metadata": {},
     "output_type": "execute_result"
    }
   ],
   "source": [
    "fig"
   ]
  },
  {
   "cell_type": "code",
   "execution_count": null,
   "metadata": {},
   "outputs": [],
   "source": []
  },
  {
   "cell_type": "code",
   "execution_count": null,
   "metadata": {},
   "outputs": [],
   "source": []
  }
 ],
 "metadata": {
  "kernelspec": {
   "display_name": "Python 3",
   "language": "python",
   "name": "python3"
  },
  "language_info": {
   "codemirror_mode": {
    "name": "ipython",
    "version": 3
   },
   "file_extension": ".py",
   "mimetype": "text/x-python",
   "name": "python",
   "nbconvert_exporter": "python",
   "pygments_lexer": "ipython3",
   "version": "3.8.5"
  }
 },
 "nbformat": 4,
 "nbformat_minor": 4
}
